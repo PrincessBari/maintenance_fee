{
 "cells": [
  {
   "cell_type": "code",
   "execution_count": 4,
   "metadata": {},
   "outputs": [],
   "source": [
    "import pandas as pd\n",
    "\n",
    "fees = pd.read_csv(<filepath>)"
   ]
  },
  {
   "cell_type": "code",
   "execution_count": 5,
   "metadata": {},
   "outputs": [
    {
     "name": "stdout",
     "output_type": "stream",
     "text": [
      "Number of rows: 56\n",
      "Column names, data types, and number of NAs:\n",
      "Date: object, NAs: 0\n",
      "Basic maintenance fee: float64, NAs: 0\n",
      "Electric: float64, NAs: 0\n",
      "HVAC: int64, NAs: 0\n",
      "Total maintenance fee: float64, NAs: 0\n",
      "Unnamed: 5: float64, NAs: 56\n"
     ]
    }
   ],
   "source": [
    "# Get the shape of the df\n",
    "num_rows = fees.shape[0]\n",
    "\n",
    "# Print the number of rows\n",
    "print(\"Number of rows:\", num_rows)\n",
    "\n",
    "# Get the column names and data types\n",
    "column_info = fees.dtypes\n",
    "\n",
    "# Print the column names, data types, and number of NAs\n",
    "print(\"Column names, data types, and number of NAs:\")\n",
    "for column_name, dtype in column_info.items():\n",
    "    num_nas = fees[column_name].isna().sum()  # Count the number of NAs in each column\n",
    "    print(f\"{column_name}: {dtype}, NAs: {num_nas}\")"
   ]
  },
  {
   "cell_type": "code",
   "execution_count": 6,
   "metadata": {},
   "outputs": [
    {
     "name": "stdout",
     "output_type": "stream",
     "text": [
      "<class 'pandas.core.frame.DataFrame'>\n",
      "RangeIndex: 56 entries, 0 to 55\n",
      "Data columns (total 6 columns):\n",
      " #   Column                 Non-Null Count  Dtype         \n",
      "---  ------                 --------------  -----         \n",
      " 0   Date                   56 non-null     datetime64[ns]\n",
      " 1   Basic maintenance fee  56 non-null     float64       \n",
      " 2   Electric               56 non-null     float64       \n",
      " 3   HVAC                   56 non-null     int64         \n",
      " 4   Total maintenance fee  56 non-null     float64       \n",
      " 5   Unnamed: 5             0 non-null      float64       \n",
      "dtypes: datetime64[ns](1), float64(4), int64(1)\n",
      "memory usage: 2.8 KB\n",
      "None\n"
     ]
    }
   ],
   "source": [
    "# Convert the 'Date' column to datetime data type\n",
    "fees['Date'] = pd.to_datetime(fees['Date'])\n",
    "\n",
    "# Now, 'Date' column is converted to datetime data type\n",
    "print(fees.info())  # Check the data types of all columns"
   ]
  },
  {
   "cell_type": "code",
   "execution_count": 7,
   "metadata": {},
   "outputs": [
    {
     "name": "stdout",
     "output_type": "stream",
     "text": [
      "        Date  Basic maintenance fee  Electric  HVAC  Total maintenance fee  \\\n",
      "0 2019-10-01                 550.35     15.81    51                 617.16   \n",
      "1 2019-11-01                 550.35      5.14    51                 606.49   \n",
      "2 2019-12-01                 550.35     11.65    51                 613.00   \n",
      "3 2020-01-01                 550.35     10.66    51                 612.01   \n",
      "4 2020-02-01                 550.35      9.58    51                 610.93   \n",
      "5 2020-03-01                 550.35     12.59    51                 613.94   \n",
      "6 2020-04-01                 550.35     11.52    51                 612.87   \n",
      "7 2020-05-01                 550.35      8.73    51                 610.08   \n",
      "8 2020-06-01                 550.35      9.58    51                 610.93   \n",
      "9 2020-07-01                 555.85     17.18    51                 624.06   \n",
      "\n",
      "   Unnamed: 5  \n",
      "0         NaN  \n",
      "1         NaN  \n",
      "2         NaN  \n",
      "3         NaN  \n",
      "4         NaN  \n",
      "5         NaN  \n",
      "6         NaN  \n",
      "7         NaN  \n",
      "8         NaN  \n",
      "9         NaN  \n"
     ]
    }
   ],
   "source": [
    "# Display the first 10 rows\n",
    "print(fees.head(10))"
   ]
  },
  {
   "cell_type": "code",
   "execution_count": 8,
   "metadata": {},
   "outputs": [
    {
     "name": "stdout",
     "output_type": "stream",
     "text": [
      "         Date  Basic maintenance fee  Electric  HVAC  Total maintenance fee  \\\n",
      "46 2023-08-01                 573.72     16.79    51                 641.51   \n",
      "47 2023-09-01                 573.72     39.62    51                 664.34   \n",
      "48 2023-10-01                 573.72     31.56    51                 656.28   \n",
      "49 2023-11-01                 573.72     24.18    51                 648.90   \n",
      "50 2023-12-01                 573.72     34.32    51                 659.04   \n",
      "51 2024-01-01                 573.72     26.74    51                 651.46   \n",
      "52 2024-02-01                 573.72     28.24    51                 652.96   \n",
      "53 2024-03-01                 573.72     28.15    51                 652.87   \n",
      "54 2024-04-01                 573.72     31.66    51                 656.38   \n",
      "55 2024-05-01                 573.72     19.22    51                 668.75   \n",
      "\n",
      "    Unnamed: 5  \n",
      "46         NaN  \n",
      "47         NaN  \n",
      "48         NaN  \n",
      "49         NaN  \n",
      "50         NaN  \n",
      "51         NaN  \n",
      "52         NaN  \n",
      "53         NaN  \n",
      "54         NaN  \n",
      "55         NaN  \n"
     ]
    }
   ],
   "source": [
    "# Display the last 10 rows\n",
    "print(fees.tail(10))"
   ]
  },
  {
   "cell_type": "code",
   "execution_count": 9,
   "metadata": {},
   "outputs": [
    {
     "name": "stdout",
     "output_type": "stream",
     "text": [
      "        Date  Basic maintenance fee  Electric  HVAC  Total maintenance fee\n",
      "0 2019-10-01                 550.35     15.81    51                 617.16\n",
      "1 2019-11-01                 550.35      5.14    51                 606.49\n",
      "2 2019-12-01                 550.35     11.65    51                 613.00\n",
      "3 2020-01-01                 550.35     10.66    51                 612.01\n",
      "4 2020-02-01                 550.35      9.58    51                 610.93\n",
      "5 2020-03-01                 550.35     12.59    51                 613.94\n",
      "6 2020-04-01                 550.35     11.52    51                 612.87\n",
      "7 2020-05-01                 550.35      8.73    51                 610.08\n",
      "8 2020-06-01                 550.35      9.58    51                 610.93\n",
      "9 2020-07-01                 555.85     17.18    51                 624.06\n"
     ]
    }
   ],
   "source": [
    "# Drop the \"Unnamed: 5\" column\n",
    "fees.drop(columns=['Unnamed: 5'], inplace=True)\n",
    "\n",
    "# Display the first 10 rows to verify the column has been dropped\n",
    "print(fees.head(10))"
   ]
  },
  {
   "cell_type": "code",
   "execution_count": 10,
   "metadata": {},
   "outputs": [],
   "source": [
    "import matplotlib.pyplot as plt\n",
    "import seaborn as sns"
   ]
  },
  {
   "cell_type": "code",
   "execution_count": 11,
   "metadata": {},
   "outputs": [],
   "source": [
    "fees['Date'] = pd.to_datetime(fees['Date'])\n",
    "fees['Basic maintenance fee'] = pd.to_numeric(fees['Basic maintenance fee'])"
   ]
  },
  {
   "cell_type": "code",
   "execution_count": 12,
   "metadata": {},
   "outputs": [
    {
     "data": {
      "image/png": "[encoded data removed]",
      "text/plain": [
       "<Figure size 720x432 with 1 Axes>"
      ]
     },
     "metadata": {
      "needs_background": "light"
     },
     "output_type": "display_data"
    }
   ],
   "source": [
    "plt.figure(figsize=(10, 6))\n",
    "plt.plot(fees['Date'], fees['Basic maintenance fee'], marker='o')\n",
    "plt.title('Basic Maintenance Fee Over Time')\n",
    "plt.xlabel('Date')\n",
    "plt.ylabel('Basic Maintenance Fee')\n",
    "plt.grid(True)\n",
    "plt.show()"
   ]
  },
  {
   "cell_type": "code",
   "execution_count": 13,
   "metadata": {},
   "outputs": [
    {
     "name": "stdout",
     "output_type": "stream",
     "text": [
      "Mean Squared Error: 7.859368156047548\n",
      "R^2 Score: 0.8917445467832268\n"
     ]
    },
    {
     "data": {
      "image/png": "[encoded data removed]",
      "text/plain": [
       "<Figure size 720x432 with 1 Axes>"
      ]
     },
     "metadata": {
      "needs_background": "light"
     },
     "output_type": "display_data"
    }
   ],
   "source": [
    "import numpy as np\n",
    "import pandas as pd\n",
    "import matplotlib.pyplot as plt\n",
    "from matplotlib.ticker import FuncFormatter\n",
    "from sklearn.linear_model import LinearRegression\n",
    "from sklearn.model_selection import train_test_split\n",
    "from sklearn.metrics import mean_squared_error, r2_score\n",
    "\n",
    "# Extract year from date\n",
    "fees['Year'] = fees['Date'].dt.year\n",
    "\n",
    "# Prepare the features and target variable\n",
    "X = fees[['Year']]\n",
    "y = fees['Basic maintenance fee']\n",
    "\n",
    "# Split the data into training and testing sets\n",
    "X_train, X_test, y_train, y_test = train_test_split(X, y, test_size=0.2, random_state=42)\n",
    "\n",
    "# Train the linear regression model\n",
    "model = LinearRegression()\n",
    "model.fit(X_train, y_train)\n",
    "\n",
    "# Predict on the test set to evaluate the model\n",
    "y_pred = model.predict(X_test)\n",
    "print(f\"Mean Squared Error: {mean_squared_error(y_test, y_pred)}\")\n",
    "print(f\"R^2 Score: {r2_score(y_test, y_pred)}\")\n",
    "\n",
    "# Create a DataFrame with future years\n",
    "future_years = pd.DataFrame({'Year': np.arange(2023, 2082)})\n",
    "\n",
    "# Predict the basic maintenance fee for future years\n",
    "future_fees = model.predict(future_years)\n",
    "\n",
    "# Combine the years and predictions into a DataFrame\n",
    "future_df = pd.DataFrame({'Year': future_years['Year'], 'Predicted Basic Maintenance Fee': future_fees})\n",
    "\n",
    "# Function to format y-axis labels as dollars\n",
    "def dollar_format(x, pos):\n",
    "    return f'${x:,.0f}'\n",
    "\n",
    "# Visualize the results\n",
    "plt.figure(figsize=(10, 6))\n",
    "plt.plot(fees['Year'], fees['Basic maintenance fee'], marker='o', label='Historical Data')\n",
    "plt.plot(future_df['Year'], future_df['Predicted Basic Maintenance Fee'], marker='x', linestyle='--', label='Predicted Data')\n",
    "plt.title('Basic Maintenance Fee Prediction')\n",
    "plt.xlabel('Year')\n",
    "plt.ylabel('Basic Maintenance Fee')\n",
    "plt.legend()\n",
    "plt.grid(True)\n",
    "\n",
    "# Apply the dollar format to the y-axis\n",
    "formatter = FuncFormatter(dollar_format)\n",
    "plt.gca().yaxis.set_major_formatter(formatter)\n",
    "\n",
    "plt.show()"
   ]
  },
  {
   "attachments": {},
   "cell_type": "markdown",
   "metadata": {},
   "source": [
    "\"Mean Squared Error: 7.859368156047548\" means that, on average, the squared difference between the actual \"Basic maintenance fee\" values and the predicted values is approximately 7.86. This is a measure of the average error in the units of the \"Basic maintenance fee\" squared.\n",
    "\n",
    "\"R^2 Score: 0.8917445467832268\" means that approximately 89.17% of the variance in the \"Basic maintenance fee\" can be explained by the \"Year\" using your linear regression model. This indicates a strong relationship between the year and the basic maintenance fee, meaning your model fits the data well."
   ]
  },
  {
   "attachments": {},
   "cell_type": "markdown",
   "metadata": {},
   "source": [
    "Below, is a different visualization using bokeh where we can hover on it, and the values will appear"
   ]
  },
  {
   "cell_type": "code",
   "execution_count": 14,
   "metadata": {},
   "outputs": [
    {
     "name": "stdout",
     "output_type": "stream",
     "text": [
      "Mean Squared Error: 7.859368156047548\n",
      "R^2 Score: 0.8917445467832268\n"
     ]
    }
   ],
   "source": [
    "import numpy as np\n",
    "import pandas as pd\n",
    "from sklearn.linear_model import LinearRegression\n",
    "from sklearn.model_selection import train_test_split\n",
    "from sklearn.metrics import mean_squared_error, r2_score\n",
    "from bokeh.plotting import figure, show\n",
    "from bokeh.models import HoverTool\n",
    "\n",
    "# Extract year from date\n",
    "fees['Year'] = fees['Date'].dt.year\n",
    "\n",
    "# Prepare the features and target variable\n",
    "X = fees[['Year']]\n",
    "y = fees['Basic maintenance fee']\n",
    "\n",
    "# Split the data into training and testing sets\n",
    "X_train, X_test, y_train, y_test = train_test_split(X, y, test_size=0.2, random_state=42)\n",
    "\n",
    "# Train the linear regression model\n",
    "model = LinearRegression()\n",
    "model.fit(X_train, y_train)\n",
    "\n",
    "# Predict on the test set to evaluate the model\n",
    "y_pred = model.predict(X_test)\n",
    "print(f\"Mean Squared Error: {mean_squared_error(y_test, y_pred)}\")\n",
    "print(f\"R^2 Score: {r2_score(y_test, y_pred)}\")\n",
    "\n",
    "# Create a dataframe with future years\n",
    "future_years = pd.DataFrame({'Year': np.arange(2023, 2082)})\n",
    "\n",
    "# Predict the basic maintenance fee for future years\n",
    "future_fees = model.predict(future_years)\n",
    "\n",
    "# Combine the years and predictions into a DataFrame\n",
    "future_df = pd.DataFrame({'Year': future_years['Year'], 'Predicted Basic Maintenance Fee': future_fees})\n",
    "\n",
    "# Visualize the results using Bokeh\n",
    "p = figure(title=\"Basic Maintenance Fee Prediction\", x_axis_label='Year', y_axis_label='Basic Maintenance Fee')\n",
    "\n",
    "# Historical Data\n",
    "p.circle(fees['Year'], fees['Basic maintenance fee'], legend_label='Historical Data', fill_color=\"blue\", size=8)\n",
    "\n",
    "# Predicted Data\n",
    "p.cross(future_df['Year'], future_df['Predicted Basic Maintenance Fee'], legend_label='Predicted Data', color=\"red\", size=10)\n",
    "\n",
    "# Add hover tool\n",
    "hover = HoverTool(tooltips=[(\"Year\", \"@x\"), (\"Predicted Basic Maintenance Fee\", \"@y\")])\n",
    "p.add_tools(hover)\n",
    "\n",
    "# Show the plot\n",
    "show(p)"
   ]
  }
 ],
 "metadata": {
  "kernelspec": {
   "display_name": "Python 3",
   "language": "python",
   "name": "python3"
  },
  "language_info": {
   "codemirror_mode": {
    "name": "ipython",
    "version": 3
   },
   "file_extension": ".py",
   "mimetype": "text/x-python",
   "name": "python",
   "nbconvert_exporter": "python",
   "pygments_lexer": "ipython3",
   "version": "3.9.12"
  },
  "orig_nbformat": 4,
  "vscode": {
   "interpreter": {
    "hash": "26de051ba29f2982a8de78e945f0abaf191376122a1563185a90213a26c5da77"
   }
  }
 },
 "nbformat": 4,
 "nbformat_minor": 2
}
